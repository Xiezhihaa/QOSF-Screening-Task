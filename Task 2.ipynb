{
  "nbformat": 4,
  "nbformat_minor": 0,
  "metadata": {
    "colab": {
      "provenance": [],
      "authorship_tag": "ABX9TyOvJz97fL7X0gyavvNz1lOd",
      "include_colab_link": true
    },
    "kernelspec": {
      "name": "python3",
      "display_name": "Python 3"
    },
    "language_info": {
      "name": "python"
    }
  },
  "cells": [
    {
      "cell_type": "markdown",
      "metadata": {
        "id": "view-in-github",
        "colab_type": "text"
      },
      "source": [
        "<a href=\"https://colab.research.google.com/github/Xiezhihaa/QOSF-Screening-Task/blob/main/Task%202.ipynb\" target=\"_parent\"><img src=\"https://colab.research.google.com/assets/colab-badge.svg\" alt=\"Open In Colab\"/></a>"
      ]
    },
    {
      "cell_type": "markdown",
      "source": [
        "QOSF Task2 Odd to Even"
      ],
      "metadata": {
        "id": "DpYGoglFICOD"
      }
    },
    {
      "cell_type": "code",
      "execution_count": null,
      "metadata": {
        "id": "utLM3CaExzJO"
      },
      "outputs": [],
      "source": [
        "!pip install qiskit\n",
        "!pip install qiskit[visualization]\n",
        "!pip install qiskit_aer"
      ]
    },
    {
      "cell_type": "code",
      "source": [
        "import qiskit\n",
        "from qiskit import QuantumRegister, ClassicalRegister, QuantumCircuit, transpile\n",
        "from qiskit_aer import AerSimulator\n",
        "from qiskit.circuit.library import QFT\n",
        "from qiskit.visualization import plot_histogram\n",
        "import numpy as np\n",
        "import matplotlib.pyplot as plt"
      ],
      "metadata": {
        "id": "yPDGL8zLyBNa"
      },
      "execution_count": 9,
      "outputs": []
    },
    {
      "cell_type": "markdown",
      "source": [
        "Classical computer"
      ],
      "metadata": {
        "id": "pJqSGfAtIHtT"
      }
    },
    {
      "cell_type": "code",
      "source": [
        "def odd_to_even(n,numbers):\n",
        "    converted = []\n",
        "    for num in numbers:\n",
        "        if num%2 != 0:\n",
        "            num += 1\n",
        "        if num >= n:\n",
        "            a = 0\n",
        "            a = num - n\n",
        "            num = num - a\n",
        "            if num%2 != 0:\n",
        "                num -= 1\n",
        "        converted.append(num)\n",
        "    return converted\n",
        "\n",
        "\n",
        "\n",
        "input_list = [1,2,2,4,5,6,7,11,17,21,22,23]\n",
        "n = 31\n",
        "print(odd_to_even(n,input_list))"
      ],
      "metadata": {
        "colab": {
          "base_uri": "https://localhost:8080/"
        },
        "id": "OyavN2_qyTQS",
        "outputId": "58bce5e9-96d6-4713-8d6a-836fe932759f"
      },
      "execution_count": 10,
      "outputs": [
        {
          "output_type": "stream",
          "name": "stdout",
          "text": [
            "[2, 2, 2, 4, 6, 6, 8, 12, 18, 22, 22, 24]\n"
          ]
        }
      ]
    },
    {
      "cell_type": "markdown",
      "source": [
        "Quantum Computer"
      ],
      "metadata": {
        "id": "2CDGimRNITAf"
      }
    },
    {
      "cell_type": "code",
      "source": [
        "def initialize_qubits(circuit, qubits, number):\n",
        "    \"\"\"Initialize the qubits to a specific number in binary representation.\"\"\"\n",
        "    binary = bin(number)[2:].zfill(len(qubits))\n",
        "    for i, bit in enumerate(reversed(binary)):\n",
        "        if bit == '1':\n",
        "            circuit.x(qubits[i])"
      ],
      "metadata": {
        "id": "fGuHeHsRIUyS"
      },
      "execution_count": 11,
      "outputs": []
    },
    {
      "cell_type": "code",
      "source": [
        "def odd_to_even_qc(numbers, n):\n",
        "    # Quantum circuit to convert odd numbers to even\n",
        "    results = []\n",
        "\n",
        "    # Number of qubits\n",
        "    n_qubits = len(bin(max(numbers)).replace(\"0b\", \"\"))\n",
        "\n",
        "    for number in numbers:\n",
        "        qr = QuantumRegister(n_qubits)\n",
        "        cr = ClassicalRegister(n_qubits)\n",
        "        qc = QuantumCircuit(qr, cr)\n",
        "\n",
        "        # Initialize the qubits to represent 'number'\n",
        "        initialize_qubits(qc, qr, number)\n",
        "\n",
        "        # Apply QFT to use phase encoding\n",
        "        qc.append(QFT(n_qubits), qr)\n",
        "\n",
        "        # Conditional phase gate if LSB is 1 (indicating the number is odd)\n",
        "        qc.cp(np.pi, qr[0], qr[1])\n",
        "\n",
        "        # Apply inverse QFT\n",
        "        qc.append(QFT(n_qubits).inverse(), qr)\n",
        "\n",
        "        # Measure the qubits\n",
        "        qc.measure(qr, cr)\n",
        "\n",
        "        # Execute the circuit\n",
        "        simulator = AerSimulator()\n",
        "        circ = transpile(qc, simulator)\n",
        "        result = simulator.run(circ).result()\n",
        "\n",
        "        measured = int(list(result.get_counts(qc).keys())[0], 2)\n",
        "        if measured >= n or measured < 1:  # Check if the result exceeds the allowed range\n",
        "            measured -= 2  # Correct by subtracting 2 if it exceeds\n",
        "        elif measured%2 != 0:\n",
        "            measured +=1\n",
        "        results.append(measured)\n",
        "\n",
        "    return results"
      ],
      "metadata": {
        "id": "60T3uYwoIbpn"
      },
      "execution_count": 12,
      "outputs": []
    },
    {
      "cell_type": "code",
      "source": [
        "output_list = odd_to_even_qc(input_list, n)\n",
        "print(\"Output List:\", output_list)"
      ],
      "metadata": {
        "colab": {
          "base_uri": "https://localhost:8080/"
        },
        "id": "o12LSYbCIduJ",
        "outputId": "96e8a191-387f-432e-c394-6884f7e5f8de"
      },
      "execution_count": 14,
      "outputs": [
        {
          "output_type": "stream",
          "name": "stdout",
          "text": [
            "Output List: [26, 18, 2, 20, 6, 14, 8, 20, 2, 6, 6, 8]\n"
          ]
        }
      ]
    }
  ]
}