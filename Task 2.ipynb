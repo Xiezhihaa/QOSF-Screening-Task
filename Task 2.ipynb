{
  "nbformat": 4,
  "nbformat_minor": 0,
  "metadata": {
    "colab": {
      "provenance": [],
      "authorship_tag": "ABX9TyNZAEICnv8IwXnWPjtQbqTo",
      "include_colab_link": true
    },
    "kernelspec": {
      "name": "python3",
      "display_name": "Python 3"
    },
    "language_info": {
      "name": "python"
    }
  },
  "cells": [
    {
      "cell_type": "markdown",
      "metadata": {
        "id": "view-in-github",
        "colab_type": "text"
      },
      "source": [
        "<a href=\"https://colab.research.google.com/github/Xiezhihaa/QOSF-Screening-Task/blob/main/Task%202.ipynb\" target=\"_parent\"><img src=\"https://colab.research.google.com/assets/colab-badge.svg\" alt=\"Open In Colab\"/></a>"
      ]
    },
    {
      "cell_type": "markdown",
      "source": [
        "QOSF Task2 Odd to Even"
      ],
      "metadata": {
        "id": "DpYGoglFICOD"
      }
    },
    {
      "cell_type": "code",
      "execution_count": null,
      "metadata": {
        "id": "utLM3CaExzJO"
      },
      "outputs": [],
      "source": [
        "!pip install qiskit\n",
        "!pip install qiskit[visualization]\n",
        "!pip install qiskit_aer"
      ]
    },
    {
      "cell_type": "code",
      "source": [
        "!pip install --upgrade qiskit\n",
        "!pip install --upgrade qiskit-aer"
      ],
      "metadata": {
        "id": "QKt0_oBSHrKp"
      },
      "execution_count": null,
      "outputs": []
    },
    {
      "cell_type": "code",
      "source": [
        "import qiskit\n",
        "from qiskit import QuantumRegister, ClassicalRegister, QuantumCircuit, transpile\n",
        "from qiskit_aer import AerSimulator\n",
        "from qiskit.circuit.library import QFT\n",
        "import numpy as np\n",
        "from numpy import pi\n",
        "from qiskit.primitives import Sampler"
      ],
      "metadata": {
        "id": "yPDGL8zLyBNa"
      },
      "execution_count": 67,
      "outputs": []
    },
    {
      "cell_type": "code",
      "source": [
        "input_list = [1,2,2,4,5,6,7,11,17,21,22,23]\n",
        "n = 31"
      ],
      "metadata": {
        "id": "s6a-d_uNpA2w"
      },
      "execution_count": 8,
      "outputs": []
    },
    {
      "cell_type": "markdown",
      "source": [
        "Classical computer"
      ],
      "metadata": {
        "id": "pJqSGfAtIHtT"
      }
    },
    {
      "cell_type": "code",
      "source": [
        "def odd_to_even(n,numbers):\n",
        "    converted = []\n",
        "    for num in numbers:\n",
        "        if num%2 != 0:\n",
        "            num += 1\n",
        "        if num >= n:\n",
        "            a = 0\n",
        "            a = num - n\n",
        "            num = num - a\n",
        "            if num%2 != 0:\n",
        "                num -= 1\n",
        "        converted.append(num)\n",
        "    return converted\n",
        "\n",
        "print(odd_to_even(n,input_list))"
      ],
      "metadata": {
        "colab": {
          "base_uri": "https://localhost:8080/"
        },
        "id": "OyavN2_qyTQS",
        "outputId": "bf197f3a-6a42-4da4-9e4f-ac1e0c9963c1"
      },
      "execution_count": 4,
      "outputs": [
        {
          "output_type": "stream",
          "name": "stdout",
          "text": [
            "[2, 2, 2, 4, 6, 6, 8, 12, 18, 22, 22, 24]\n"
          ]
        }
      ]
    },
    {
      "cell_type": "markdown",
      "source": [
        "Quantum Computer"
      ],
      "metadata": {
        "id": "2CDGimRNITAf"
      }
    },
    {
      "cell_type": "code",
      "source": [
        "def initialize_qubits(circuit, qubits, number):\n",
        "    \"\"\"Initialize the qubits to a specific number in binary representation.\"\"\"\n",
        "    binary = bin(number)[2:].zfill(len(qubits))\n",
        "    for i, bit in enumerate(reversed(binary)):\n",
        "        if bit == '1':\n",
        "            circuit.x(qubits[i])"
      ],
      "metadata": {
        "id": "fGuHeHsRIUyS"
      },
      "execution_count": 5,
      "outputs": []
    },
    {
      "cell_type": "code",
      "source": [
        "def apply_qft(circuit, qubits):\n",
        "  circuit.append(QFT(len(qubits), do_swaps=False),qubits)\n",
        "\n",
        "# LSB is qubits[0], apply phase rotation to all qubits if LSB is 1 (odd number)\n",
        "def conditional_increment(circuit,qubits):\n",
        "  for i in range(1, len(qubits)):\n",
        "    circuit.cp(pi/(2**(i-1)), qubits[i],qubits[:-1])\n",
        "\n",
        "def apply_inverst_qft(circuit,qubits):\n",
        "  circuit.append(QFT(len(qubits),do_swaps=False).inverse(),qubits)\n",
        "\n",
        "def measure(circuit, qubits, classical_bits):\n",
        "  circuit.measure(qubits, classical_bits)"
      ],
      "metadata": {
        "id": "HMqJR-mU77JT"
      },
      "execution_count": 134,
      "outputs": []
    },
    {
      "cell_type": "code",
      "source": [
        "def build_circuit(number, n):\n",
        "  n_qubits = len(bin(n).replace(\"0b\", \"\"))\n",
        "\n",
        "  qr = QuantumRegister(n_qubits)\n",
        "  cr = ClassicalRegister(n_qubits)\n",
        "  qc = QuantumCircuit(qr,cr)\n",
        "\n",
        "  # Initialize the qubits to represent 'number'\n",
        "  initialize_qubits(qc,qr,number)\n",
        "  # QFT\n",
        "  apply_qft(qc,qr)\n",
        "  conditional_increment(qc,qr)\n",
        "  apply_inverst_qft(qc,qr)\n",
        "\n",
        "  # measure\n",
        "  measure(qc,qr,cr)\n",
        "\n",
        "  return qc"
      ],
      "metadata": {
        "id": "Z6_pYmLsQQ6m"
      },
      "execution_count": 131,
      "outputs": []
    },
    {
      "cell_type": "code",
      "source": [
        "def odd_to_even_qc(numbers, n):\n",
        "    # Quantum circuit to convert odd numbers to even\n",
        "    results = []\n",
        "\n",
        "    for number in numbers:\n",
        "        #Odd to even\n",
        "\n",
        "        circuit = build_circuit(number, n)\n",
        "\n",
        "        # Execute the circuit\n",
        "        simulator = AerSimulator()\n",
        "        circ = transpile(circuit, simulator)\n",
        "        job = simulator.run(circ, shots = 1024)\n",
        "        result = job.result()\n",
        "        counts = result.get_counts()\n",
        "        max_count = max(counts, key = counts.get)\n",
        "        answer = int(max_count, 2)\n",
        "        results.append(answer)\n",
        "\n",
        "    return results\n",
        "\n",
        "input_list = [1,2,2,4,5,6,7,11,17,21,22,23]\n",
        "print(input_list)\n",
        "print(odd_to_even(n,input_list))"
      ],
      "metadata": {
        "colab": {
          "base_uri": "https://localhost:8080/"
        },
        "id": "60T3uYwoIbpn",
        "outputId": "f6f2433e-939a-46df-8c0e-9006a8278e31"
      },
      "execution_count": 139,
      "outputs": [
        {
          "output_type": "stream",
          "name": "stdout",
          "text": [
            "[1, 2, 2, 4, 5, 6, 7, 11, 17, 21, 22, 23]\n",
            "[2, 2, 2, 4, 6, 6, 8, 10, 10, 10, 10, 10]\n"
          ]
        }
      ]
    }
  ]
}